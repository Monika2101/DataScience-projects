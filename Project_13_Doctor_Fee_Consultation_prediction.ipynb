{
 "cells": [
  {
   "cell_type": "code",
   "execution_count": 1,
   "metadata": {},
   "outputs": [],
   "source": [
    "import numpy as np \n",
    "import pandas as pd \n",
    "import matplotlib.pyplot as plt\n",
    "import seaborn as sns"
   ]
  },
  {
   "cell_type": "code",
   "execution_count": 2,
   "metadata": {},
   "outputs": [],
   "source": [
    "data_train =pd.read_excel(\"Desktop\\Doctor_consultsion_fee_data\\Final_Train.xlsx\")\n",
    "data_test =pd.read_excel(\"Desktop\\Doctor_consultsion_fee_data\\Final_Test.xlsx\")"
   ]
  },
  {
   "cell_type": "code",
   "execution_count": 3,
   "metadata": {},
   "outputs": [
    {
     "name": "stderr",
     "output_type": "stream",
     "text": [
      "C:\\Users\\Monika\\Anaconda3\\lib\\site-packages\\pandas\\core\\frame.py:6692: FutureWarning: Sorting because non-concatenation axis is not aligned. A future version\n",
      "of pandas will change to not sort by default.\n",
      "\n",
      "To accept the future behavior, pass 'sort=False'.\n",
      "\n",
      "To retain the current behavior and silence the warning, pass 'sort=True'.\n",
      "\n",
      "  sort=sort)\n"
     ]
    }
   ],
   "source": [
    "data = data_train.append(data_test)"
   ]
  },
  {
   "cell_type": "code",
   "execution_count": 4,
   "metadata": {},
   "outputs": [
    {
     "data": {
      "text/html": [
       "<div>\n",
       "<style scoped>\n",
       "    .dataframe tbody tr th:only-of-type {\n",
       "        vertical-align: middle;\n",
       "    }\n",
       "\n",
       "    .dataframe tbody tr th {\n",
       "        vertical-align: top;\n",
       "    }\n",
       "\n",
       "    .dataframe thead th {\n",
       "        text-align: right;\n",
       "    }\n",
       "</style>\n",
       "<table border=\"1\" class=\"dataframe\">\n",
       "  <thead>\n",
       "    <tr style=\"text-align: right;\">\n",
       "      <th></th>\n",
       "      <th>Experience</th>\n",
       "      <th>Fees</th>\n",
       "      <th>Miscellaneous_Info</th>\n",
       "      <th>Place</th>\n",
       "      <th>Profile</th>\n",
       "      <th>Qualification</th>\n",
       "      <th>Rating</th>\n",
       "    </tr>\n",
       "  </thead>\n",
       "  <tbody>\n",
       "    <tr>\n",
       "      <th>0</th>\n",
       "      <td>24 years experience</td>\n",
       "      <td>100.0</td>\n",
       "      <td>100% 16 Feedback Kakkanad, Ernakulam</td>\n",
       "      <td>Kakkanad, Ernakulam</td>\n",
       "      <td>Homeopath</td>\n",
       "      <td>BHMS, MD - Homeopathy</td>\n",
       "      <td>100%</td>\n",
       "    </tr>\n",
       "    <tr>\n",
       "      <th>1</th>\n",
       "      <td>12 years experience</td>\n",
       "      <td>350.0</td>\n",
       "      <td>98% 76 Feedback Whitefield, Bangalore</td>\n",
       "      <td>Whitefield, Bangalore</td>\n",
       "      <td>Ayurveda</td>\n",
       "      <td>BAMS, MD - Ayurveda Medicine</td>\n",
       "      <td>98%</td>\n",
       "    </tr>\n",
       "    <tr>\n",
       "      <th>2</th>\n",
       "      <td>9 years experience</td>\n",
       "      <td>300.0</td>\n",
       "      <td>NaN</td>\n",
       "      <td>Mathikere - BEL, Bangalore</td>\n",
       "      <td>ENT Specialist</td>\n",
       "      <td>MBBS, MS - Otorhinolaryngology</td>\n",
       "      <td>NaN</td>\n",
       "    </tr>\n",
       "    <tr>\n",
       "      <th>3</th>\n",
       "      <td>12 years experience</td>\n",
       "      <td>250.0</td>\n",
       "      <td>Bannerghatta Road, Bangalore ₹250 Available on...</td>\n",
       "      <td>Bannerghatta Road, Bangalore</td>\n",
       "      <td>Ayurveda</td>\n",
       "      <td>BSc - Zoology, BAMS</td>\n",
       "      <td>NaN</td>\n",
       "    </tr>\n",
       "    <tr>\n",
       "      <th>4</th>\n",
       "      <td>20 years experience</td>\n",
       "      <td>250.0</td>\n",
       "      <td>100% 4 Feedback Keelkattalai, Chennai</td>\n",
       "      <td>Keelkattalai, Chennai</td>\n",
       "      <td>Ayurveda</td>\n",
       "      <td>BAMS</td>\n",
       "      <td>100%</td>\n",
       "    </tr>\n",
       "  </tbody>\n",
       "</table>\n",
       "</div>"
      ],
      "text/plain": [
       "            Experience   Fees  \\\n",
       "0  24 years experience  100.0   \n",
       "1  12 years experience  350.0   \n",
       "2   9 years experience  300.0   \n",
       "3  12 years experience  250.0   \n",
       "4  20 years experience  250.0   \n",
       "\n",
       "                                  Miscellaneous_Info  \\\n",
       "0               100% 16 Feedback Kakkanad, Ernakulam   \n",
       "1              98% 76 Feedback Whitefield, Bangalore   \n",
       "2                                                NaN   \n",
       "3  Bannerghatta Road, Bangalore ₹250 Available on...   \n",
       "4              100% 4 Feedback Keelkattalai, Chennai   \n",
       "\n",
       "                          Place         Profile  \\\n",
       "0           Kakkanad, Ernakulam       Homeopath   \n",
       "1         Whitefield, Bangalore        Ayurveda   \n",
       "2    Mathikere - BEL, Bangalore  ENT Specialist   \n",
       "3  Bannerghatta Road, Bangalore        Ayurveda   \n",
       "4         Keelkattalai, Chennai        Ayurveda   \n",
       "\n",
       "                    Qualification Rating  \n",
       "0           BHMS, MD - Homeopathy   100%  \n",
       "1    BAMS, MD - Ayurveda Medicine    98%  \n",
       "2  MBBS, MS - Otorhinolaryngology    NaN  \n",
       "3             BSc - Zoology, BAMS    NaN  \n",
       "4                            BAMS   100%  "
      ]
     },
     "execution_count": 4,
     "metadata": {},
     "output_type": "execute_result"
    }
   ],
   "source": [
    "data.head()"
   ]
  },
  {
   "cell_type": "code",
   "execution_count": 5,
   "metadata": {},
   "outputs": [
    {
     "data": {
      "text/plain": [
       "(7948, 7)"
      ]
     },
     "execution_count": 5,
     "metadata": {},
     "output_type": "execute_result"
    }
   ],
   "source": [
    "data.shape"
   ]
  },
  {
   "cell_type": "code",
   "execution_count": 6,
   "metadata": {},
   "outputs": [
    {
     "data": {
      "text/plain": [
       "Experience               0\n",
       "Fees                  1987\n",
       "Miscellaneous_Info    3454\n",
       "Place                   31\n",
       "Profile                  0\n",
       "Qualification            0\n",
       "Rating                4392\n",
       "dtype: int64"
      ]
     },
     "execution_count": 6,
     "metadata": {},
     "output_type": "execute_result"
    }
   ],
   "source": [
    "data.isnull().sum()"
   ]
  },
  {
   "cell_type": "code",
   "execution_count": 7,
   "metadata": {},
   "outputs": [],
   "source": [
    "data[\"Experience\"] = data[\"Experience\"].str.split()\n",
    "data[\"Experience\"] = data[\"Experience\"].str[0].astype(\"int\")"
   ]
  },
  {
   "cell_type": "code",
   "execution_count": 8,
   "metadata": {},
   "outputs": [],
   "source": [
    "data[\"Place\"].fillna(\"Unknown,Unknown\",inplace=True)\n",
    "data[\"Place\"] = data[\"Place\"].str.split(\",\")\n",
    "data[\"City\"] = data[\"Place\"].str[-1]\n",
    "data[\"Place\"] = data[\"Place\"].str[0]"
   ]
  },
  {
   "cell_type": "code",
   "execution_count": 9,
   "metadata": {},
   "outputs": [],
   "source": [
    "data['Rating'].fillna('0',inplace = True)\n",
    "data['Rating'] = data['Rating'].replace(\"%\",'', regex=True)\n",
    "data['Rating'] = data['Rating'].astype(int)"
   ]
  },
  {
   "cell_type": "code",
   "execution_count": 10,
   "metadata": {},
   "outputs": [],
   "source": [
    "data['Qual_1'] = data['Qualification'].str.split(',').str[0]\n",
    "data['Qual_2'] = data['Qualification'].str.split(',').str[1]\n",
    "data['Qual_3'] = data['Qualification'].str.split(',').str[2]\n",
    "data['Qual_1'].fillna(\"0\",inplace = True)\n",
    "data['Qual_2'].fillna(\"0\",inplace = True)\n",
    "data['Qual_3'].fillna(\"0\",inplace = True)"
   ]
  },
  {
   "cell_type": "code",
   "execution_count": 11,
   "metadata": {},
   "outputs": [
    {
     "data": {
      "text/html": [
       "<div>\n",
       "<style scoped>\n",
       "    .dataframe tbody tr th:only-of-type {\n",
       "        vertical-align: middle;\n",
       "    }\n",
       "\n",
       "    .dataframe tbody tr th {\n",
       "        vertical-align: top;\n",
       "    }\n",
       "\n",
       "    .dataframe thead th {\n",
       "        text-align: right;\n",
       "    }\n",
       "</style>\n",
       "<table border=\"1\" class=\"dataframe\">\n",
       "  <thead>\n",
       "    <tr style=\"text-align: right;\">\n",
       "      <th></th>\n",
       "      <th>Experience</th>\n",
       "      <th>Fees</th>\n",
       "      <th>Miscellaneous_Info</th>\n",
       "      <th>Place</th>\n",
       "      <th>Profile</th>\n",
       "      <th>Qualification</th>\n",
       "      <th>Rating</th>\n",
       "      <th>City</th>\n",
       "      <th>Qual_1</th>\n",
       "      <th>Qual_2</th>\n",
       "      <th>Qual_3</th>\n",
       "    </tr>\n",
       "  </thead>\n",
       "  <tbody>\n",
       "    <tr>\n",
       "      <th>0</th>\n",
       "      <td>24</td>\n",
       "      <td>100.0</td>\n",
       "      <td>100% 16 Feedback Kakkanad, Ernakulam</td>\n",
       "      <td>Kakkanad</td>\n",
       "      <td>Homeopath</td>\n",
       "      <td>BHMS, MD - Homeopathy</td>\n",
       "      <td>100</td>\n",
       "      <td>Ernakulam</td>\n",
       "      <td>BHMS</td>\n",
       "      <td>MD - Homeopathy</td>\n",
       "      <td>0</td>\n",
       "    </tr>\n",
       "    <tr>\n",
       "      <th>1</th>\n",
       "      <td>12</td>\n",
       "      <td>350.0</td>\n",
       "      <td>98% 76 Feedback Whitefield, Bangalore</td>\n",
       "      <td>Whitefield</td>\n",
       "      <td>Ayurveda</td>\n",
       "      <td>BAMS, MD - Ayurveda Medicine</td>\n",
       "      <td>98</td>\n",
       "      <td>Bangalore</td>\n",
       "      <td>BAMS</td>\n",
       "      <td>MD - Ayurveda Medicine</td>\n",
       "      <td>0</td>\n",
       "    </tr>\n",
       "    <tr>\n",
       "      <th>2</th>\n",
       "      <td>9</td>\n",
       "      <td>300.0</td>\n",
       "      <td>NaN</td>\n",
       "      <td>Mathikere - BEL</td>\n",
       "      <td>ENT Specialist</td>\n",
       "      <td>MBBS, MS - Otorhinolaryngology</td>\n",
       "      <td>0</td>\n",
       "      <td>Bangalore</td>\n",
       "      <td>MBBS</td>\n",
       "      <td>MS - Otorhinolaryngology</td>\n",
       "      <td>0</td>\n",
       "    </tr>\n",
       "    <tr>\n",
       "      <th>3</th>\n",
       "      <td>12</td>\n",
       "      <td>250.0</td>\n",
       "      <td>Bannerghatta Road, Bangalore ₹250 Available on...</td>\n",
       "      <td>Bannerghatta Road</td>\n",
       "      <td>Ayurveda</td>\n",
       "      <td>BSc - Zoology, BAMS</td>\n",
       "      <td>0</td>\n",
       "      <td>Bangalore</td>\n",
       "      <td>BSc - Zoology</td>\n",
       "      <td>BAMS</td>\n",
       "      <td>0</td>\n",
       "    </tr>\n",
       "    <tr>\n",
       "      <th>4</th>\n",
       "      <td>20</td>\n",
       "      <td>250.0</td>\n",
       "      <td>100% 4 Feedback Keelkattalai, Chennai</td>\n",
       "      <td>Keelkattalai</td>\n",
       "      <td>Ayurveda</td>\n",
       "      <td>BAMS</td>\n",
       "      <td>100</td>\n",
       "      <td>Chennai</td>\n",
       "      <td>BAMS</td>\n",
       "      <td>0</td>\n",
       "      <td>0</td>\n",
       "    </tr>\n",
       "  </tbody>\n",
       "</table>\n",
       "</div>"
      ],
      "text/plain": [
       "   Experience   Fees                                 Miscellaneous_Info  \\\n",
       "0          24  100.0               100% 16 Feedback Kakkanad, Ernakulam   \n",
       "1          12  350.0              98% 76 Feedback Whitefield, Bangalore   \n",
       "2           9  300.0                                                NaN   \n",
       "3          12  250.0  Bannerghatta Road, Bangalore ₹250 Available on...   \n",
       "4          20  250.0              100% 4 Feedback Keelkattalai, Chennai   \n",
       "\n",
       "               Place         Profile                   Qualification  Rating  \\\n",
       "0           Kakkanad       Homeopath           BHMS, MD - Homeopathy     100   \n",
       "1         Whitefield        Ayurveda    BAMS, MD - Ayurveda Medicine      98   \n",
       "2    Mathikere - BEL  ENT Specialist  MBBS, MS - Otorhinolaryngology       0   \n",
       "3  Bannerghatta Road        Ayurveda             BSc - Zoology, BAMS       0   \n",
       "4       Keelkattalai        Ayurveda                            BAMS     100   \n",
       "\n",
       "         City         Qual_1                     Qual_2 Qual_3  \n",
       "0   Ernakulam           BHMS            MD - Homeopathy      0  \n",
       "1   Bangalore           BAMS     MD - Ayurveda Medicine      0  \n",
       "2   Bangalore           MBBS   MS - Otorhinolaryngology      0  \n",
       "3   Bangalore  BSc - Zoology                       BAMS      0  \n",
       "4     Chennai           BAMS                          0      0  "
      ]
     },
     "execution_count": 11,
     "metadata": {},
     "output_type": "execute_result"
    }
   ],
   "source": [
    "data.head()"
   ]
  },
  {
   "cell_type": "code",
   "execution_count": 12,
   "metadata": {},
   "outputs": [
    {
     "name": "stdout",
     "output_type": "stream",
     "text": [
      "<class 'pandas.core.frame.DataFrame'>\n",
      "Int64Index: 7948 entries, 0 to 1986\n",
      "Data columns (total 11 columns):\n",
      "Experience            7948 non-null int32\n",
      "Fees                  5961 non-null float64\n",
      "Miscellaneous_Info    4494 non-null object\n",
      "Place                 7948 non-null object\n",
      "Profile               7948 non-null object\n",
      "Qualification         7948 non-null object\n",
      "Rating                7948 non-null int32\n",
      "City                  7948 non-null object\n",
      "Qual_1                7948 non-null object\n",
      "Qual_2                7948 non-null object\n",
      "Qual_3                7948 non-null object\n",
      "dtypes: float64(1), int32(2), object(8)\n",
      "memory usage: 683.0+ KB\n"
     ]
    }
   ],
   "source": [
    "data.info()"
   ]
  },
  {
   "cell_type": "code",
   "execution_count": 13,
   "metadata": {},
   "outputs": [],
   "source": [
    "data= data.drop(data[['Miscellaneous_Info','Place','Qualification']], axis=1)"
   ]
  },
  {
   "cell_type": "code",
   "execution_count": 14,
   "metadata": {},
   "outputs": [],
   "source": [
    "data = pd.get_dummies(data,columns=[\"City\",\"Profile\"],prefix=[\"City\",\"Profile\"])"
   ]
  },
  {
   "cell_type": "code",
   "execution_count": 15,
   "metadata": {},
   "outputs": [],
   "source": [
    "from sklearn.preprocessing import LabelEncoder\n",
    "le = LabelEncoder()\n",
    "data[\"Qual_1\"] = le.fit_transform(data[\"Qual_1\"])\n",
    "data[\"Qual_2\"] = le.fit_transform(data[\"Qual_2\"])\n",
    "data[\"Qual_3\"] = le.fit_transform(data[\"Qual_3\"])"
   ]
  },
  {
   "cell_type": "code",
   "execution_count": 16,
   "metadata": {},
   "outputs": [
    {
     "data": {
      "text/html": [
       "<div>\n",
       "<style scoped>\n",
       "    .dataframe tbody tr th:only-of-type {\n",
       "        vertical-align: middle;\n",
       "    }\n",
       "\n",
       "    .dataframe tbody tr th {\n",
       "        vertical-align: top;\n",
       "    }\n",
       "\n",
       "    .dataframe thead th {\n",
       "        text-align: right;\n",
       "    }\n",
       "</style>\n",
       "<table border=\"1\" class=\"dataframe\">\n",
       "  <thead>\n",
       "    <tr style=\"text-align: right;\">\n",
       "      <th></th>\n",
       "      <th>Experience</th>\n",
       "      <th>Fees</th>\n",
       "      <th>Rating</th>\n",
       "      <th>Qual_1</th>\n",
       "      <th>Qual_2</th>\n",
       "      <th>Qual_3</th>\n",
       "      <th>City_ Bangalore</th>\n",
       "      <th>City_ Chennai</th>\n",
       "      <th>City_ Coimbatore</th>\n",
       "      <th>City_ Delhi</th>\n",
       "      <th>...</th>\n",
       "      <th>City_ Mumbai</th>\n",
       "      <th>City_ Thiruvananthapuram</th>\n",
       "      <th>City_Unknown</th>\n",
       "      <th>City_e</th>\n",
       "      <th>Profile_Ayurveda</th>\n",
       "      <th>Profile_Dentist</th>\n",
       "      <th>Profile_Dermatologists</th>\n",
       "      <th>Profile_ENT Specialist</th>\n",
       "      <th>Profile_General Medicine</th>\n",
       "      <th>Profile_Homeopath</th>\n",
       "    </tr>\n",
       "  </thead>\n",
       "  <tbody>\n",
       "    <tr>\n",
       "      <th>0</th>\n",
       "      <td>24</td>\n",
       "      <td>100.0</td>\n",
       "      <td>100</td>\n",
       "      <td>8</td>\n",
       "      <td>293</td>\n",
       "      <td>480</td>\n",
       "      <td>0</td>\n",
       "      <td>0</td>\n",
       "      <td>0</td>\n",
       "      <td>0</td>\n",
       "      <td>...</td>\n",
       "      <td>0</td>\n",
       "      <td>0</td>\n",
       "      <td>0</td>\n",
       "      <td>0</td>\n",
       "      <td>0</td>\n",
       "      <td>0</td>\n",
       "      <td>0</td>\n",
       "      <td>0</td>\n",
       "      <td>0</td>\n",
       "      <td>1</td>\n",
       "    </tr>\n",
       "    <tr>\n",
       "      <th>1</th>\n",
       "      <td>12</td>\n",
       "      <td>350.0</td>\n",
       "      <td>98</td>\n",
       "      <td>5</td>\n",
       "      <td>282</td>\n",
       "      <td>480</td>\n",
       "      <td>1</td>\n",
       "      <td>0</td>\n",
       "      <td>0</td>\n",
       "      <td>0</td>\n",
       "      <td>...</td>\n",
       "      <td>0</td>\n",
       "      <td>0</td>\n",
       "      <td>0</td>\n",
       "      <td>0</td>\n",
       "      <td>1</td>\n",
       "      <td>0</td>\n",
       "      <td>0</td>\n",
       "      <td>0</td>\n",
       "      <td>0</td>\n",
       "      <td>0</td>\n",
       "    </tr>\n",
       "    <tr>\n",
       "      <th>2</th>\n",
       "      <td>9</td>\n",
       "      <td>300.0</td>\n",
       "      <td>0</td>\n",
       "      <td>101</td>\n",
       "      <td>383</td>\n",
       "      <td>480</td>\n",
       "      <td>1</td>\n",
       "      <td>0</td>\n",
       "      <td>0</td>\n",
       "      <td>0</td>\n",
       "      <td>...</td>\n",
       "      <td>0</td>\n",
       "      <td>0</td>\n",
       "      <td>0</td>\n",
       "      <td>0</td>\n",
       "      <td>0</td>\n",
       "      <td>0</td>\n",
       "      <td>0</td>\n",
       "      <td>1</td>\n",
       "      <td>0</td>\n",
       "      <td>0</td>\n",
       "    </tr>\n",
       "    <tr>\n",
       "      <th>3</th>\n",
       "      <td>12</td>\n",
       "      <td>250.0</td>\n",
       "      <td>0</td>\n",
       "      <td>14</td>\n",
       "      <td>10</td>\n",
       "      <td>480</td>\n",
       "      <td>1</td>\n",
       "      <td>0</td>\n",
       "      <td>0</td>\n",
       "      <td>0</td>\n",
       "      <td>...</td>\n",
       "      <td>0</td>\n",
       "      <td>0</td>\n",
       "      <td>0</td>\n",
       "      <td>0</td>\n",
       "      <td>1</td>\n",
       "      <td>0</td>\n",
       "      <td>0</td>\n",
       "      <td>0</td>\n",
       "      <td>0</td>\n",
       "      <td>0</td>\n",
       "    </tr>\n",
       "    <tr>\n",
       "      <th>4</th>\n",
       "      <td>20</td>\n",
       "      <td>250.0</td>\n",
       "      <td>100</td>\n",
       "      <td>5</td>\n",
       "      <td>494</td>\n",
       "      <td>480</td>\n",
       "      <td>0</td>\n",
       "      <td>1</td>\n",
       "      <td>0</td>\n",
       "      <td>0</td>\n",
       "      <td>...</td>\n",
       "      <td>0</td>\n",
       "      <td>0</td>\n",
       "      <td>0</td>\n",
       "      <td>0</td>\n",
       "      <td>1</td>\n",
       "      <td>0</td>\n",
       "      <td>0</td>\n",
       "      <td>0</td>\n",
       "      <td>0</td>\n",
       "      <td>0</td>\n",
       "    </tr>\n",
       "  </tbody>\n",
       "</table>\n",
       "<p>5 rows × 22 columns</p>\n",
       "</div>"
      ],
      "text/plain": [
       "   Experience   Fees  Rating  Qual_1  Qual_2  Qual_3  City_ Bangalore  \\\n",
       "0          24  100.0     100       8     293     480                0   \n",
       "1          12  350.0      98       5     282     480                1   \n",
       "2           9  300.0       0     101     383     480                1   \n",
       "3          12  250.0       0      14      10     480                1   \n",
       "4          20  250.0     100       5     494     480                0   \n",
       "\n",
       "   City_ Chennai  City_ Coimbatore  City_ Delhi  ...  City_ Mumbai  \\\n",
       "0              0                 0            0  ...             0   \n",
       "1              0                 0            0  ...             0   \n",
       "2              0                 0            0  ...             0   \n",
       "3              0                 0            0  ...             0   \n",
       "4              1                 0            0  ...             0   \n",
       "\n",
       "   City_ Thiruvananthapuram  City_Unknown  City_e  Profile_Ayurveda  \\\n",
       "0                         0             0       0                 0   \n",
       "1                         0             0       0                 1   \n",
       "2                         0             0       0                 0   \n",
       "3                         0             0       0                 1   \n",
       "4                         0             0       0                 1   \n",
       "\n",
       "   Profile_Dentist  Profile_Dermatologists  Profile_ENT Specialist  \\\n",
       "0                0                       0                       0   \n",
       "1                0                       0                       0   \n",
       "2                0                       0                       1   \n",
       "3                0                       0                       0   \n",
       "4                0                       0                       0   \n",
       "\n",
       "   Profile_General Medicine  Profile_Homeopath  \n",
       "0                         0                  1  \n",
       "1                         0                  0  \n",
       "2                         0                  0  \n",
       "3                         0                  0  \n",
       "4                         0                  0  \n",
       "\n",
       "[5 rows x 22 columns]"
      ]
     },
     "execution_count": 16,
     "metadata": {},
     "output_type": "execute_result"
    }
   ],
   "source": [
    "data.head()"
   ]
  },
  {
   "cell_type": "code",
   "execution_count": 17,
   "metadata": {},
   "outputs": [],
   "source": [
    "data_train = data[0:5961]\n",
    "data_test = data[5961:]\n",
    "data_test = data_test.drop(['Fees'], axis =1)"
   ]
  },
  {
   "cell_type": "code",
   "execution_count": 18,
   "metadata": {},
   "outputs": [],
   "source": [
    "X = data_train.drop(\"Fees\",axis=1)\n",
    "y = data_train[\"Fees\"]"
   ]
  },
  {
   "cell_type": "code",
   "execution_count": 19,
   "metadata": {},
   "outputs": [],
   "source": [
    "from sklearn.preprocessing import StandardScaler\n",
    "sc=StandardScaler()\n",
    "x=sc.fit_transform(X)"
   ]
  },
  {
   "cell_type": "code",
   "execution_count": 20,
   "metadata": {},
   "outputs": [],
   "source": [
    "X = pd.DataFrame(x, columns=X.columns)"
   ]
  },
  {
   "cell_type": "code",
   "execution_count": 21,
   "metadata": {},
   "outputs": [
    {
     "data": {
      "text/html": [
       "<div>\n",
       "<style scoped>\n",
       "    .dataframe tbody tr th:only-of-type {\n",
       "        vertical-align: middle;\n",
       "    }\n",
       "\n",
       "    .dataframe tbody tr th {\n",
       "        vertical-align: top;\n",
       "    }\n",
       "\n",
       "    .dataframe thead th {\n",
       "        text-align: right;\n",
       "    }\n",
       "</style>\n",
       "<table border=\"1\" class=\"dataframe\">\n",
       "  <thead>\n",
       "    <tr style=\"text-align: right;\">\n",
       "      <th></th>\n",
       "      <th>Experience</th>\n",
       "      <th>Rating</th>\n",
       "      <th>Qual_1</th>\n",
       "      <th>Qual_2</th>\n",
       "      <th>Qual_3</th>\n",
       "      <th>City_ Bangalore</th>\n",
       "      <th>City_ Chennai</th>\n",
       "      <th>City_ Coimbatore</th>\n",
       "      <th>City_ Delhi</th>\n",
       "      <th>City_ Ernakulam</th>\n",
       "      <th>...</th>\n",
       "      <th>City_ Mumbai</th>\n",
       "      <th>City_ Thiruvananthapuram</th>\n",
       "      <th>City_Unknown</th>\n",
       "      <th>City_e</th>\n",
       "      <th>Profile_Ayurveda</th>\n",
       "      <th>Profile_Dentist</th>\n",
       "      <th>Profile_Dermatologists</th>\n",
       "      <th>Profile_ENT Specialist</th>\n",
       "      <th>Profile_General Medicine</th>\n",
       "      <th>Profile_Homeopath</th>\n",
       "    </tr>\n",
       "  </thead>\n",
       "  <tbody>\n",
       "    <tr>\n",
       "      <th>0</th>\n",
       "      <td>0.600979</td>\n",
       "      <td>1.220669</td>\n",
       "      <td>-1.031272</td>\n",
       "      <td>-0.270144</td>\n",
       "      <td>0.434675</td>\n",
       "      <td>-0.517193</td>\n",
       "      <td>-0.409207</td>\n",
       "      <td>-0.199424</td>\n",
       "      <td>-0.498112</td>\n",
       "      <td>6.161232</td>\n",
       "      <td>...</td>\n",
       "      <td>-0.507015</td>\n",
       "      <td>-0.120989</td>\n",
       "      <td>-0.064897</td>\n",
       "      <td>-0.012953</td>\n",
       "      <td>-0.389723</td>\n",
       "      <td>-0.553255</td>\n",
       "      <td>-0.458109</td>\n",
       "      <td>-0.372984</td>\n",
       "      <td>-0.494962</td>\n",
       "      <td>2.463975</td>\n",
       "    </tr>\n",
       "    <tr>\n",
       "      <th>1</th>\n",
       "      <td>-0.476040</td>\n",
       "      <td>1.178419</td>\n",
       "      <td>-1.090682</td>\n",
       "      <td>-0.342475</td>\n",
       "      <td>0.434675</td>\n",
       "      <td>1.933513</td>\n",
       "      <td>-0.409207</td>\n",
       "      <td>-0.199424</td>\n",
       "      <td>-0.498112</td>\n",
       "      <td>-0.162305</td>\n",
       "      <td>...</td>\n",
       "      <td>-0.507015</td>\n",
       "      <td>-0.120989</td>\n",
       "      <td>-0.064897</td>\n",
       "      <td>-0.012953</td>\n",
       "      <td>2.565925</td>\n",
       "      <td>-0.553255</td>\n",
       "      <td>-0.458109</td>\n",
       "      <td>-0.372984</td>\n",
       "      <td>-0.494962</td>\n",
       "      <td>-0.405848</td>\n",
       "    </tr>\n",
       "    <tr>\n",
       "      <th>2</th>\n",
       "      <td>-0.745295</td>\n",
       "      <td>-0.891845</td>\n",
       "      <td>0.810421</td>\n",
       "      <td>0.321659</td>\n",
       "      <td>0.434675</td>\n",
       "      <td>1.933513</td>\n",
       "      <td>-0.409207</td>\n",
       "      <td>-0.199424</td>\n",
       "      <td>-0.498112</td>\n",
       "      <td>-0.162305</td>\n",
       "      <td>...</td>\n",
       "      <td>-0.507015</td>\n",
       "      <td>-0.120989</td>\n",
       "      <td>-0.064897</td>\n",
       "      <td>-0.012953</td>\n",
       "      <td>-0.389723</td>\n",
       "      <td>-0.553255</td>\n",
       "      <td>-0.458109</td>\n",
       "      <td>2.681079</td>\n",
       "      <td>-0.494962</td>\n",
       "      <td>-0.405848</td>\n",
       "    </tr>\n",
       "    <tr>\n",
       "      <th>3</th>\n",
       "      <td>-0.476040</td>\n",
       "      <td>-0.891845</td>\n",
       "      <td>-0.912453</td>\n",
       "      <td>-2.131035</td>\n",
       "      <td>0.434675</td>\n",
       "      <td>1.933513</td>\n",
       "      <td>-0.409207</td>\n",
       "      <td>-0.199424</td>\n",
       "      <td>-0.498112</td>\n",
       "      <td>-0.162305</td>\n",
       "      <td>...</td>\n",
       "      <td>-0.507015</td>\n",
       "      <td>-0.120989</td>\n",
       "      <td>-0.064897</td>\n",
       "      <td>-0.012953</td>\n",
       "      <td>2.565925</td>\n",
       "      <td>-0.553255</td>\n",
       "      <td>-0.458109</td>\n",
       "      <td>-0.372984</td>\n",
       "      <td>-0.494962</td>\n",
       "      <td>-0.405848</td>\n",
       "    </tr>\n",
       "    <tr>\n",
       "      <th>4</th>\n",
       "      <td>0.241972</td>\n",
       "      <td>1.220669</td>\n",
       "      <td>-1.090682</td>\n",
       "      <td>1.051549</td>\n",
       "      <td>0.434675</td>\n",
       "      <td>-0.517193</td>\n",
       "      <td>2.443753</td>\n",
       "      <td>-0.199424</td>\n",
       "      <td>-0.498112</td>\n",
       "      <td>-0.162305</td>\n",
       "      <td>...</td>\n",
       "      <td>-0.507015</td>\n",
       "      <td>-0.120989</td>\n",
       "      <td>-0.064897</td>\n",
       "      <td>-0.012953</td>\n",
       "      <td>2.565925</td>\n",
       "      <td>-0.553255</td>\n",
       "      <td>-0.458109</td>\n",
       "      <td>-0.372984</td>\n",
       "      <td>-0.494962</td>\n",
       "      <td>-0.405848</td>\n",
       "    </tr>\n",
       "  </tbody>\n",
       "</table>\n",
       "<p>5 rows × 21 columns</p>\n",
       "</div>"
      ],
      "text/plain": [
       "   Experience    Rating    Qual_1    Qual_2    Qual_3  City_ Bangalore  \\\n",
       "0    0.600979  1.220669 -1.031272 -0.270144  0.434675        -0.517193   \n",
       "1   -0.476040  1.178419 -1.090682 -0.342475  0.434675         1.933513   \n",
       "2   -0.745295 -0.891845  0.810421  0.321659  0.434675         1.933513   \n",
       "3   -0.476040 -0.891845 -0.912453 -2.131035  0.434675         1.933513   \n",
       "4    0.241972  1.220669 -1.090682  1.051549  0.434675        -0.517193   \n",
       "\n",
       "   City_ Chennai  City_ Coimbatore  City_ Delhi  City_ Ernakulam  ...  \\\n",
       "0      -0.409207         -0.199424    -0.498112         6.161232  ...   \n",
       "1      -0.409207         -0.199424    -0.498112        -0.162305  ...   \n",
       "2      -0.409207         -0.199424    -0.498112        -0.162305  ...   \n",
       "3      -0.409207         -0.199424    -0.498112        -0.162305  ...   \n",
       "4       2.443753         -0.199424    -0.498112        -0.162305  ...   \n",
       "\n",
       "   City_ Mumbai  City_ Thiruvananthapuram  City_Unknown    City_e  \\\n",
       "0     -0.507015                 -0.120989     -0.064897 -0.012953   \n",
       "1     -0.507015                 -0.120989     -0.064897 -0.012953   \n",
       "2     -0.507015                 -0.120989     -0.064897 -0.012953   \n",
       "3     -0.507015                 -0.120989     -0.064897 -0.012953   \n",
       "4     -0.507015                 -0.120989     -0.064897 -0.012953   \n",
       "\n",
       "   Profile_Ayurveda  Profile_Dentist  Profile_Dermatologists  \\\n",
       "0         -0.389723        -0.553255               -0.458109   \n",
       "1          2.565925        -0.553255               -0.458109   \n",
       "2         -0.389723        -0.553255               -0.458109   \n",
       "3          2.565925        -0.553255               -0.458109   \n",
       "4          2.565925        -0.553255               -0.458109   \n",
       "\n",
       "   Profile_ENT Specialist  Profile_General Medicine  Profile_Homeopath  \n",
       "0               -0.372984                 -0.494962           2.463975  \n",
       "1               -0.372984                 -0.494962          -0.405848  \n",
       "2                2.681079                 -0.494962          -0.405848  \n",
       "3               -0.372984                 -0.494962          -0.405848  \n",
       "4               -0.372984                 -0.494962          -0.405848  \n",
       "\n",
       "[5 rows x 21 columns]"
      ]
     },
     "execution_count": 21,
     "metadata": {},
     "output_type": "execute_result"
    }
   ],
   "source": [
    "X.head()"
   ]
  },
  {
   "cell_type": "code",
   "execution_count": 22,
   "metadata": {},
   "outputs": [],
   "source": [
    "from sklearn.model_selection import train_test_split\n",
    "X_train, X_test, y_train, y_test = train_test_split(X, y, test_size=0.25, random_state=1)"
   ]
  },
  {
   "cell_type": "code",
   "execution_count": 23,
   "metadata": {},
   "outputs": [
    {
     "data": {
      "text/plain": [
       "((4470, 21), (4470,), (1491, 21), (1491,))"
      ]
     },
     "execution_count": 23,
     "metadata": {},
     "output_type": "execute_result"
    }
   ],
   "source": [
    "X_train.shape, y_train.shape, X_test.shape, y_test.shape"
   ]
  },
  {
   "cell_type": "code",
   "execution_count": 24,
   "metadata": {},
   "outputs": [
    {
     "data": {
      "text/plain": [
       "Index(['Experience', 'Rating', 'Qual_1', 'Qual_2', 'Qual_3', 'City_ Bangalore',\n",
       "       'City_ Chennai', 'City_ Coimbatore', 'City_ Delhi', 'City_ Ernakulam',\n",
       "       'City_ Hyderabad', 'City_ Mumbai', 'City_ Thiruvananthapuram',\n",
       "       'City_Unknown', 'City_e', 'Profile_Ayurveda', 'Profile_Dentist',\n",
       "       'Profile_Dermatologists', 'Profile_ENT Specialist',\n",
       "       'Profile_General Medicine', 'Profile_Homeopath'],\n",
       "      dtype='object')"
      ]
     },
     "execution_count": 24,
     "metadata": {},
     "output_type": "execute_result"
    }
   ],
   "source": [
    "X_train.columns"
   ]
  },
  {
   "cell_type": "code",
   "execution_count": 31,
   "metadata": {},
   "outputs": [
    {
     "name": "stdout",
     "output_type": "stream",
     "text": [
      "RMSE: 183.526444\n"
     ]
    }
   ],
   "source": [
    "from sklearn.ensemble import RandomForestRegressor\n",
    "from sklearn.metrics import mean_squared_error\n",
    "rf = RandomForestRegressor()\n",
    "rf.fit(X_train, y_train)\n",
    "y_pred = rf.predict(X_test)\n",
    "rmse = np.sqrt(mean_squared_error(y_test, y_pred))\n",
    "print(\"RMSE: %f\" % (rmse))"
   ]
  },
  {
   "cell_type": "code",
   "execution_count": 32,
   "metadata": {},
   "outputs": [
    {
     "name": "stderr",
     "output_type": "stream",
     "text": [
      "C:\\Users\\Monika\\Anaconda3\\lib\\site-packages\\xgboost\\core.py:587: FutureWarning: Series.base is deprecated and will be removed in a future version\n",
      "  if getattr(data, 'base', None) is not None and \\\n",
      "C:\\Users\\Monika\\Anaconda3\\lib\\site-packages\\xgboost\\core.py:588: FutureWarning: Series.base is deprecated and will be removed in a future version\n",
      "  data.base is not None and isinstance(data, np.ndarray) \\\n"
     ]
    }
   ],
   "source": [
    "import xgboost as xgb\n",
    "data_dmatrix = xgb.DMatrix(data=x,label=y)"
   ]
  },
  {
   "cell_type": "code",
   "execution_count": 33,
   "metadata": {},
   "outputs": [
    {
     "name": "stdout",
     "output_type": "stream",
     "text": [
      "[18:34:48] WARNING: C:/Jenkins/workspace/xgboost-win64_release_0.90/src/objective/regression_obj.cu:152: reg:linear is now deprecated in favor of reg:squarederror.\n"
     ]
    }
   ],
   "source": [
    "xg_reg = xgb.XGBRegressor(objective ='reg:linear', learning_rate = 0.1, max_depth = 5, n_estimators = 10)\n",
    "\n",
    "xg_reg.fit(X_train,y_train)\n",
    "pred = xg_reg.predict(X_test)"
   ]
  },
  {
   "cell_type": "code",
   "execution_count": 34,
   "metadata": {},
   "outputs": [
    {
     "name": "stdout",
     "output_type": "stream",
     "text": [
      "RMSE: 205.227381\n"
     ]
    }
   ],
   "source": [
    "rmse = np.sqrt(mean_squared_error(y_test, pred))\n",
    "print(\"RMSE: %f\" % (rmse))"
   ]
  },
  {
   "cell_type": "code",
   "execution_count": null,
   "metadata": {},
   "outputs": [],
   "source": []
  }
 ],
 "metadata": {
  "kernelspec": {
   "display_name": "Python 3",
   "language": "python",
   "name": "python3"
  },
  "language_info": {
   "codemirror_mode": {
    "name": "ipython",
    "version": 3
   },
   "file_extension": ".py",
   "mimetype": "text/x-python",
   "name": "python",
   "nbconvert_exporter": "python",
   "pygments_lexer": "ipython3",
   "version": "3.7.3"
  }
 },
 "nbformat": 4,
 "nbformat_minor": 2
}
