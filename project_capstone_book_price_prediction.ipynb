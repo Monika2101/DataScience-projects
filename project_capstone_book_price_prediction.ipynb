{
  "nbformat": 4,
  "nbformat_minor": 0,
  "metadata": {
    "colab": {
      "name": "project_capstone_book_price_prediction.ipynb",
      "provenance": []
    },
    "kernelspec": {
      "name": "python3",
      "display_name": "Python 3"
    },
    "accelerator": "GPU"
  },
  "cells": [
    {
      "cell_type": "code",
      "metadata": {
        "id": "p-C0bhhZllpr",
        "colab_type": "code",
        "outputId": "bb708071-fe36-41fe-8c86-e19d6891e4ac",
        "colab": {
          "base_uri": "https://localhost:8080/",
          "height": 34
        }
      },
      "source": [
        "from google.colab import drive\n",
        "drive.mount('/content/gdrive')"
      ],
      "execution_count": 43,
      "outputs": [
        {
          "output_type": "stream",
          "text": [
            "Drive already mounted at /content/gdrive; to attempt to forcibly remount, call drive.mount(\"/content/gdrive\", force_remount=True).\n"
          ],
          "name": "stdout"
        }
      ]
    },
    {
      "cell_type": "code",
      "metadata": {
        "id": "AZ9DB5FwoV7l",
        "colab_type": "code",
        "colab": {}
      },
      "source": [
        "import pandas as pd\n",
        "import numpy as np\n",
        "import re\n",
        "import seaborn as sns"
      ],
      "execution_count": 0,
      "outputs": []
    },
    {
      "cell_type": "code",
      "metadata": {
        "id": "Su4a82QHFw6j",
        "colab_type": "code",
        "colab": {}
      },
      "source": [
        "train=pd.read_excel('/content/gdrive/My Drive/Colab Notebooks/Data/Book_price_prediction/Book_Train.xlsx')\n",
        "test =pd.read_excel('/content/gdrive/My Drive/Colab Notebooks/Data/Book_price_prediction/Book_Test.xlsx')"
      ],
      "execution_count": 0,
      "outputs": []
    },
    {
      "cell_type": "code",
      "metadata": {
        "id": "qFRr9XI2F9lr",
        "colab_type": "code",
        "outputId": "a819b263-8e46-4029-9f21-d633078c6f81",
        "colab": {
          "base_uri": "https://localhost:8080/",
          "height": 51
        }
      },
      "source": [
        "print(train.shape)\n",
        "print(test.shape)"
      ],
      "execution_count": 46,
      "outputs": [
        {
          "output_type": "stream",
          "text": [
            "(6237, 9)\n",
            "(1560, 8)\n"
          ],
          "name": "stdout"
        }
      ]
    },
    {
      "cell_type": "code",
      "metadata": {
        "id": "b67_9_z9GREW",
        "colab_type": "code",
        "outputId": "eec391d7-f7bd-48b1-afaf-9738e9751eae",
        "colab": {
          "base_uri": "https://localhost:8080/",
          "height": 193
        }
      },
      "source": [
        "train.head(3)"
      ],
      "execution_count": 47,
      "outputs": [
        {
          "output_type": "execute_result",
          "data": {
            "text/html": [
              "<div>\n",
              "<style scoped>\n",
              "    .dataframe tbody tr th:only-of-type {\n",
              "        vertical-align: middle;\n",
              "    }\n",
              "\n",
              "    .dataframe tbody tr th {\n",
              "        vertical-align: top;\n",
              "    }\n",
              "\n",
              "    .dataframe thead th {\n",
              "        text-align: right;\n",
              "    }\n",
              "</style>\n",
              "<table border=\"1\" class=\"dataframe\">\n",
              "  <thead>\n",
              "    <tr style=\"text-align: right;\">\n",
              "      <th></th>\n",
              "      <th>Title</th>\n",
              "      <th>Author</th>\n",
              "      <th>Edition</th>\n",
              "      <th>Ratings</th>\n",
              "      <th>Reviews</th>\n",
              "      <th>Synopsis</th>\n",
              "      <th>Genre</th>\n",
              "      <th>BookCategory</th>\n",
              "      <th>Price</th>\n",
              "    </tr>\n",
              "  </thead>\n",
              "  <tbody>\n",
              "    <tr>\n",
              "      <th>0</th>\n",
              "      <td>The Prisoner's Gold (The Hunters 3)</td>\n",
              "      <td>Chris Kuzneski</td>\n",
              "      <td>Paperback,– 10 Mar 2016</td>\n",
              "      <td>4.0 out of 5 stars</td>\n",
              "      <td>8 customer reviews</td>\n",
              "      <td>THE HUNTERS return in their third brilliant no...</td>\n",
              "      <td>Action &amp; Adventure (Books)</td>\n",
              "      <td>Action &amp; Adventure</td>\n",
              "      <td>220.00</td>\n",
              "    </tr>\n",
              "    <tr>\n",
              "      <th>1</th>\n",
              "      <td>Guru Dutt: A Tragedy in Three Acts</td>\n",
              "      <td>Arun Khopkar</td>\n",
              "      <td>Paperback,– 7 Nov 2012</td>\n",
              "      <td>3.9 out of 5 stars</td>\n",
              "      <td>14 customer reviews</td>\n",
              "      <td>A layered portrait of a troubled genius for wh...</td>\n",
              "      <td>Cinema &amp; Broadcast (Books)</td>\n",
              "      <td>Biographies, Diaries &amp; True Accounts</td>\n",
              "      <td>202.93</td>\n",
              "    </tr>\n",
              "    <tr>\n",
              "      <th>2</th>\n",
              "      <td>Leviathan (Penguin Classics)</td>\n",
              "      <td>Thomas Hobbes</td>\n",
              "      <td>Paperback,– 25 Feb 1982</td>\n",
              "      <td>4.8 out of 5 stars</td>\n",
              "      <td>6 customer reviews</td>\n",
              "      <td>\"During the time men live without a common Pow...</td>\n",
              "      <td>International Relations</td>\n",
              "      <td>Humour</td>\n",
              "      <td>299.00</td>\n",
              "    </tr>\n",
              "  </tbody>\n",
              "</table>\n",
              "</div>"
            ],
            "text/plain": [
              "                                 Title  ...   Price\n",
              "0  The Prisoner's Gold (The Hunters 3)  ...  220.00\n",
              "1   Guru Dutt: A Tragedy in Three Acts  ...  202.93\n",
              "2         Leviathan (Penguin Classics)  ...  299.00\n",
              "\n",
              "[3 rows x 9 columns]"
            ]
          },
          "metadata": {
            "tags": []
          },
          "execution_count": 47
        }
      ]
    },
    {
      "cell_type": "code",
      "metadata": {
        "id": "oDCav3yOGU7k",
        "colab_type": "code",
        "outputId": "2e7904e8-614c-4a72-babd-f8db8d84b86f",
        "colab": {
          "base_uri": "https://localhost:8080/",
          "height": 193
        }
      },
      "source": [
        "test.head(3)"
      ],
      "execution_count": 48,
      "outputs": [
        {
          "output_type": "execute_result",
          "data": {
            "text/html": [
              "<div>\n",
              "<style scoped>\n",
              "    .dataframe tbody tr th:only-of-type {\n",
              "        vertical-align: middle;\n",
              "    }\n",
              "\n",
              "    .dataframe tbody tr th {\n",
              "        vertical-align: top;\n",
              "    }\n",
              "\n",
              "    .dataframe thead th {\n",
              "        text-align: right;\n",
              "    }\n",
              "</style>\n",
              "<table border=\"1\" class=\"dataframe\">\n",
              "  <thead>\n",
              "    <tr style=\"text-align: right;\">\n",
              "      <th></th>\n",
              "      <th>Title</th>\n",
              "      <th>Author</th>\n",
              "      <th>Edition</th>\n",
              "      <th>Ratings</th>\n",
              "      <th>Reviews</th>\n",
              "      <th>Synopsis</th>\n",
              "      <th>Genre</th>\n",
              "      <th>BookCategory</th>\n",
              "    </tr>\n",
              "  </thead>\n",
              "  <tbody>\n",
              "    <tr>\n",
              "      <th>0</th>\n",
              "      <td>The Complete Sherlock Holmes: 2 Boxes sets</td>\n",
              "      <td>Sir Arthur Conan Doyle</td>\n",
              "      <td>Mass Market Paperback,– 1 Oct 1986</td>\n",
              "      <td>4.4 out of 5 stars</td>\n",
              "      <td>960 customer reviews</td>\n",
              "      <td>A collection of entire body of work of the She...</td>\n",
              "      <td>Short Stories (Books)</td>\n",
              "      <td>Crime, Thriller &amp; Mystery</td>\n",
              "    </tr>\n",
              "    <tr>\n",
              "      <th>1</th>\n",
              "      <td>Learn Docker - Fundamentals of Docker 18.x: Ev...</td>\n",
              "      <td>Gabriel N. Schenker</td>\n",
              "      <td>Paperback,– Import, 26 Apr 2018</td>\n",
              "      <td>5.0 out of 5 stars</td>\n",
              "      <td>1 customer review</td>\n",
              "      <td>Enhance your software deployment workflow usin...</td>\n",
              "      <td>Operating Systems Textbooks</td>\n",
              "      <td>Computing, Internet &amp; Digital Media</td>\n",
              "    </tr>\n",
              "    <tr>\n",
              "      <th>2</th>\n",
              "      <td>Big Girl</td>\n",
              "      <td>Danielle Steel</td>\n",
              "      <td>Paperback,– 17 Mar 2011</td>\n",
              "      <td>5.0 out of 5 stars</td>\n",
              "      <td>4 customer reviews</td>\n",
              "      <td>'Watch out, world. Here I come!'\\nFor Victoria...</td>\n",
              "      <td>Romance (Books)</td>\n",
              "      <td>Romance</td>\n",
              "    </tr>\n",
              "  </tbody>\n",
              "</table>\n",
              "</div>"
            ],
            "text/plain": [
              "                                               Title  ...                         BookCategory\n",
              "0         The Complete Sherlock Holmes: 2 Boxes sets  ...            Crime, Thriller & Mystery\n",
              "1  Learn Docker - Fundamentals of Docker 18.x: Ev...  ...  Computing, Internet & Digital Media\n",
              "2                                           Big Girl  ...                              Romance\n",
              "\n",
              "[3 rows x 8 columns]"
            ]
          },
          "metadata": {
            "tags": []
          },
          "execution_count": 48
        }
      ]
    },
    {
      "cell_type": "code",
      "metadata": {
        "id": "MOIsfREJGYNz",
        "colab_type": "code",
        "outputId": "2b76ec38-b548-4bd3-cf6b-4134433c69dc",
        "colab": {
          "base_uri": "https://localhost:8080/",
          "height": 187
        }
      },
      "source": [
        "# checking for missing or null values\n",
        "train.isnull().sum()"
      ],
      "execution_count": 49,
      "outputs": [
        {
          "output_type": "execute_result",
          "data": {
            "text/plain": [
              "Title           0\n",
              "Author          0\n",
              "Edition         0\n",
              "Ratings         0\n",
              "Reviews         0\n",
              "Synopsis        0\n",
              "Genre           0\n",
              "BookCategory    0\n",
              "Price           0\n",
              "dtype: int64"
            ]
          },
          "metadata": {
            "tags": []
          },
          "execution_count": 49
        }
      ]
    },
    {
      "cell_type": "code",
      "metadata": {
        "id": "n_ODa-IYGfOi",
        "colab_type": "code",
        "colab": {}
      },
      "source": [
        "#Cleaning ReviewS & Ratings to represent float values\n",
        "train['Reviews']=train['Reviews'].str.extract('(\\d+)').astype(float)\n",
        "test['Reviews']=test['Reviews'].str.extract('(\\d+)').astype(float)"
      ],
      "execution_count": 0,
      "outputs": []
    },
    {
      "cell_type": "code",
      "metadata": {
        "id": "XdMZ2QpTGpDs",
        "colab_type": "code",
        "colab": {}
      },
      "source": [
        "train['Ratings'] = train['Ratings'].map(lambda x:x.split(' ')[0])\n",
        "train['Ratings'] = train['Ratings'].astype(float)"
      ],
      "execution_count": 0,
      "outputs": []
    },
    {
      "cell_type": "code",
      "metadata": {
        "id": "znGwL9IGGsgX",
        "colab_type": "code",
        "colab": {}
      },
      "source": [
        "test['Ratings'] = test['Ratings'].map(lambda x:x.split(' ')[0])\n",
        "test['Ratings'] = test['Ratings'].astype(float)"
      ],
      "execution_count": 0,
      "outputs": []
    },
    {
      "cell_type": "code",
      "metadata": {
        "id": "I9KHAOUwG-l4",
        "colab_type": "code",
        "outputId": "30937e68-f2f5-429a-ff75-e9f61550a7ef",
        "colab": {
          "base_uri": "https://localhost:8080/",
          "height": 299
        }
      },
      "source": [
        "sns.distplot(train['Reviews'])"
      ],
      "execution_count": 53,
      "outputs": [
        {
          "output_type": "execute_result",
          "data": {
            "text/plain": [
              "<matplotlib.axes._subplots.AxesSubplot at 0x7f3552358e80>"
            ]
          },
          "metadata": {
            "tags": []
          },
          "execution_count": 53
        },
        {
          "output_type": "display_data",
          "data": {
            "image/png": "[encoded data removed]",
            "text/plain": [
              "<Figure size 432x288 with 1 Axes>"
            ]
          },
          "metadata": {
            "tags": []
          }
        }
      ]
    },
    {
      "cell_type": "code",
      "metadata": {
        "id": "RUifQth6Gv-p",
        "colab_type": "code",
        "colab": {}
      },
      "source": [
        "# clean the column Edition and create new features from it \n",
        "\n",
        "train[\"Edition\"],train['Edition_Date'] =train['Edition'].str.split(',–').str\n",
        "test[\"Edition\"],test['Edition_Date'] =test['Edition'].str.split(',–').str"
      ],
      "execution_count": 0,
      "outputs": []
    },
    {
      "cell_type": "code",
      "metadata": {
        "id": "chUOLxq3GzwX",
        "colab_type": "code",
        "colab": {}
      },
      "source": [
        "train['Released_year'] = train['Edition_Date'].apply(lambda x : x[-4:] if re.match('\\d\\d\\d\\d',x[-4:])\\\n",
        "                                                 else -1).astype('int')\n",
        "train['Book_Age'] =2019- train['Released_year']"
      ],
      "execution_count": 0,
      "outputs": []
    },
    {
      "cell_type": "code",
      "metadata": {
        "id": "m8wGzlTKHQ3v",
        "colab_type": "code",
        "colab": {}
      },
      "source": [
        "test['Released_year'] = test['Edition_Date'].apply(lambda x : x[-4:] if re.match('\\d\\d\\d\\d',x[-4:])\\\n",
        "                                                 else -1).astype('int')\n",
        "test['Book_Age'] =2019- test['Released_year']"
      ],
      "execution_count": 0,
      "outputs": []
    },
    {
      "cell_type": "code",
      "metadata": {
        "id": "4T7eWLJHHVSq",
        "colab_type": "code",
        "outputId": "5dfbb61c-ea75-4eda-b7ca-81f457abd236",
        "colab": {
          "base_uri": "https://localhost:8080/",
          "height": 119
        }
      },
      "source": [
        "train['Edition'].unique()"
      ],
      "execution_count": 57,
      "outputs": [
        {
          "output_type": "execute_result",
          "data": {
            "text/plain": [
              "array(['Paperback', 'Hardcover', 'Mass Market Paperback', 'Sheet music',\n",
              "       'Flexibound', 'Plastic Comb', 'Loose Leaf', 'Tankobon Softcover',\n",
              "       'Perfect Paperback', 'Board book', 'Cards', 'Spiral-bound',\n",
              "       '(Kannada),Paperback', 'Product Bundle', 'Library Binding',\n",
              "       '(German),Paperback', 'Leather Bound', '(French),Paperback',\n",
              "       '(Spanish),Paperback'], dtype=object)"
            ]
          },
          "metadata": {
            "tags": []
          },
          "execution_count": 57
        }
      ]
    },
    {
      "cell_type": "code",
      "metadata": {
        "id": "h4-efY4MHYxn",
        "colab_type": "code",
        "outputId": "1c9391be-6f3e-4765-c4d2-9602c4f6712c",
        "colab": {
          "base_uri": "https://localhost:8080/",
          "height": 68
        }
      },
      "source": [
        "test['Edition'].unique()"
      ],
      "execution_count": 58,
      "outputs": [
        {
          "output_type": "execute_result",
          "data": {
            "text/plain": [
              "array(['Mass Market Paperback', 'Paperback', 'Hardcover', 'Cards',\n",
              "       'Sheet music', 'Flexibound', 'Spiral-bound', '(Chinese),Paperback',\n",
              "       'Loose Leaf'], dtype=object)"
            ]
          },
          "metadata": {
            "tags": []
          },
          "execution_count": 58
        }
      ]
    },
    {
      "cell_type": "code",
      "metadata": {
        "id": "6S2zoYMWHcVd",
        "colab_type": "code",
        "colab": {}
      },
      "source": [
        "# Grouping (Language), Paperback into one\n",
        "train['Edition'] = ['Paperback'  if re.match('(.*),(Paperback)',s) else s for s in train['Edition']]\n",
        "test['Edition'] = ['Paperback'  if re.match('(.*),(Paperback)',s) else s for s in test['Edition']]"
      ],
      "execution_count": 0,
      "outputs": []
    },
    {
      "cell_type": "code",
      "metadata": {
        "id": "aKZJzBzIHgKV",
        "colab_type": "code",
        "outputId": "c9999299-1804-429c-e75d-e17bff9ea47d",
        "colab": {
          "base_uri": "https://localhost:8080/",
          "height": 170
        }
      },
      "source": [
        "test['Edition'].value_counts()"
      ],
      "execution_count": 60,
      "outputs": [
        {
          "output_type": "execute_result",
          "data": {
            "text/plain": [
              "Paperback                1266\n",
              "Hardcover                 233\n",
              "Mass Market Paperback      45\n",
              "Sheet music                 8\n",
              "Flexibound                  4\n",
              "Spiral-bound                2\n",
              "Loose Leaf                  1\n",
              "Cards                       1\n",
              "Name: Edition, dtype: int64"
            ]
          },
          "metadata": {
            "tags": []
          },
          "execution_count": 60
        }
      ]
    },
    {
      "cell_type": "code",
      "metadata": {
        "id": "_WYNXf74HnSH",
        "colab_type": "code",
        "colab": {}
      },
      "source": [
        "considerable_editions = ['Paperback', 'Hardcover', 'Mass Market Paperback', 'Sheet music', 'Flexibound'] \n",
        "others = [edition for edition in train['Edition'] if edition not in considerable_editions]\n",
        "train['Edition'] = train['Edition'].replace(others,value='Others')"
      ],
      "execution_count": 0,
      "outputs": []
    },
    {
      "cell_type": "code",
      "metadata": {
        "id": "fUjZ_TxNHsaq",
        "colab_type": "code",
        "colab": {}
      },
      "source": [
        "considerable_editions = ['Paperback', 'Hardcover', 'Mass Market Paperback', 'Sheet music', 'Flexibound'] \n",
        "others = [edition for edition in test['Edition'] if edition not in considerable_editions]\n",
        "test['Edition'] = test['Edition'].replace(others,value='Others')"
      ],
      "execution_count": 0,
      "outputs": []
    },
    {
      "cell_type": "code",
      "metadata": {
        "id": "s6ZvLweSHwZm",
        "colab_type": "code",
        "outputId": "a78a3203-4271-4dcb-a8ec-26c9a0f95f81",
        "colab": {
          "base_uri": "https://localhost:8080/",
          "height": 374
        }
      },
      "source": [
        "train.head()"
      ],
      "execution_count": 63,
      "outputs": [
        {
          "output_type": "execute_result",
          "data": {
            "text/html": [
              "<div>\n",
              "<style scoped>\n",
              "    .dataframe tbody tr th:only-of-type {\n",
              "        vertical-align: middle;\n",
              "    }\n",
              "\n",
              "    .dataframe tbody tr th {\n",
              "        vertical-align: top;\n",
              "    }\n",
              "\n",
              "    .dataframe thead th {\n",
              "        text-align: right;\n",
              "    }\n",
              "</style>\n",
              "<table border=\"1\" class=\"dataframe\">\n",
              "  <thead>\n",
              "    <tr style=\"text-align: right;\">\n",
              "      <th></th>\n",
              "      <th>Title</th>\n",
              "      <th>Author</th>\n",
              "      <th>Edition</th>\n",
              "      <th>Ratings</th>\n",
              "      <th>Reviews</th>\n",
              "      <th>Synopsis</th>\n",
              "      <th>Genre</th>\n",
              "      <th>BookCategory</th>\n",
              "      <th>Price</th>\n",
              "      <th>Edition_Date</th>\n",
              "      <th>Released_year</th>\n",
              "      <th>Book_Age</th>\n",
              "    </tr>\n",
              "  </thead>\n",
              "  <tbody>\n",
              "    <tr>\n",
              "      <th>0</th>\n",
              "      <td>The Prisoner's Gold (The Hunters 3)</td>\n",
              "      <td>Chris Kuzneski</td>\n",
              "      <td>Paperback</td>\n",
              "      <td>4.0</td>\n",
              "      <td>8.0</td>\n",
              "      <td>THE HUNTERS return in their third brilliant no...</td>\n",
              "      <td>Action &amp; Adventure (Books)</td>\n",
              "      <td>Action &amp; Adventure</td>\n",
              "      <td>220.00</td>\n",
              "      <td>10 Mar 2016</td>\n",
              "      <td>2016</td>\n",
              "      <td>3</td>\n",
              "    </tr>\n",
              "    <tr>\n",
              "      <th>1</th>\n",
              "      <td>Guru Dutt: A Tragedy in Three Acts</td>\n",
              "      <td>Arun Khopkar</td>\n",
              "      <td>Paperback</td>\n",
              "      <td>3.9</td>\n",
              "      <td>14.0</td>\n",
              "      <td>A layered portrait of a troubled genius for wh...</td>\n",
              "      <td>Cinema &amp; Broadcast (Books)</td>\n",
              "      <td>Biographies, Diaries &amp; True Accounts</td>\n",
              "      <td>202.93</td>\n",
              "      <td>7 Nov 2012</td>\n",
              "      <td>2012</td>\n",
              "      <td>7</td>\n",
              "    </tr>\n",
              "    <tr>\n",
              "      <th>2</th>\n",
              "      <td>Leviathan (Penguin Classics)</td>\n",
              "      <td>Thomas Hobbes</td>\n",
              "      <td>Paperback</td>\n",
              "      <td>4.8</td>\n",
              "      <td>6.0</td>\n",
              "      <td>\"During the time men live without a common Pow...</td>\n",
              "      <td>International Relations</td>\n",
              "      <td>Humour</td>\n",
              "      <td>299.00</td>\n",
              "      <td>25 Feb 1982</td>\n",
              "      <td>1982</td>\n",
              "      <td>37</td>\n",
              "    </tr>\n",
              "    <tr>\n",
              "      <th>3</th>\n",
              "      <td>A Pocket Full of Rye (Miss Marple)</td>\n",
              "      <td>Agatha Christie</td>\n",
              "      <td>Paperback</td>\n",
              "      <td>4.1</td>\n",
              "      <td>13.0</td>\n",
              "      <td>A handful of grain is found in the pocket of a...</td>\n",
              "      <td>Contemporary Fiction (Books)</td>\n",
              "      <td>Crime, Thriller &amp; Mystery</td>\n",
              "      <td>180.00</td>\n",
              "      <td>5 Oct 2017</td>\n",
              "      <td>2017</td>\n",
              "      <td>2</td>\n",
              "    </tr>\n",
              "    <tr>\n",
              "      <th>4</th>\n",
              "      <td>LIFE 70 Years of Extraordinary Photography</td>\n",
              "      <td>Editors of Life</td>\n",
              "      <td>Hardcover</td>\n",
              "      <td>5.0</td>\n",
              "      <td>1.0</td>\n",
              "      <td>For seven decades, \"Life\" has been thrilling t...</td>\n",
              "      <td>Photography Textbooks</td>\n",
              "      <td>Arts, Film &amp; Photography</td>\n",
              "      <td>965.62</td>\n",
              "      <td>10 Oct 2006</td>\n",
              "      <td>2006</td>\n",
              "      <td>13</td>\n",
              "    </tr>\n",
              "  </tbody>\n",
              "</table>\n",
              "</div>"
            ],
            "text/plain": [
              "                                        Title  ... Book_Age\n",
              "0         The Prisoner's Gold (The Hunters 3)  ...        3\n",
              "1          Guru Dutt: A Tragedy in Three Acts  ...        7\n",
              "2                Leviathan (Penguin Classics)  ...       37\n",
              "3          A Pocket Full of Rye (Miss Marple)  ...        2\n",
              "4  LIFE 70 Years of Extraordinary Photography  ...       13\n",
              "\n",
              "[5 rows x 12 columns]"
            ]
          },
          "metadata": {
            "tags": []
          },
          "execution_count": 63
        }
      ]
    },
    {
      "cell_type": "code",
      "metadata": {
        "id": "OnhxfS7rHyIF",
        "colab_type": "code",
        "outputId": "6560c045-371c-41a9-95a3-41a4f5982f97",
        "colab": {
          "base_uri": "https://localhost:8080/",
          "height": 266
        }
      },
      "source": [
        "train.groupby('Edition')['Price'].describe()"
      ],
      "execution_count": 64,
      "outputs": [
        {
          "output_type": "execute_result",
          "data": {
            "text/html": [
              "<div>\n",
              "<style scoped>\n",
              "    .dataframe tbody tr th:only-of-type {\n",
              "        vertical-align: middle;\n",
              "    }\n",
              "\n",
              "    .dataframe tbody tr th {\n",
              "        vertical-align: top;\n",
              "    }\n",
              "\n",
              "    .dataframe thead th {\n",
              "        text-align: right;\n",
              "    }\n",
              "</style>\n",
              "<table border=\"1\" class=\"dataframe\">\n",
              "  <thead>\n",
              "    <tr style=\"text-align: right;\">\n",
              "      <th></th>\n",
              "      <th>count</th>\n",
              "      <th>mean</th>\n",
              "      <th>std</th>\n",
              "      <th>min</th>\n",
              "      <th>25%</th>\n",
              "      <th>50%</th>\n",
              "      <th>75%</th>\n",
              "      <th>max</th>\n",
              "    </tr>\n",
              "    <tr>\n",
              "      <th>Edition</th>\n",
              "      <th></th>\n",
              "      <th></th>\n",
              "      <th></th>\n",
              "      <th></th>\n",
              "      <th></th>\n",
              "      <th></th>\n",
              "      <th></th>\n",
              "      <th></th>\n",
              "    </tr>\n",
              "  </thead>\n",
              "  <tbody>\n",
              "    <tr>\n",
              "      <th>Flexibound</th>\n",
              "      <td>15.0</td>\n",
              "      <td>713.344000</td>\n",
              "      <td>433.772450</td>\n",
              "      <td>194.0</td>\n",
              "      <td>385.955</td>\n",
              "      <td>712.0</td>\n",
              "      <td>954.50</td>\n",
              "      <td>1669.00</td>\n",
              "    </tr>\n",
              "    <tr>\n",
              "      <th>Hardcover</th>\n",
              "      <td>823.0</td>\n",
              "      <td>983.294168</td>\n",
              "      <td>1170.782001</td>\n",
              "      <td>51.0</td>\n",
              "      <td>385.000</td>\n",
              "      <td>569.0</td>\n",
              "      <td>1109.00</td>\n",
              "      <td>13244.67</td>\n",
              "    </tr>\n",
              "    <tr>\n",
              "      <th>Mass Market Paperback</th>\n",
              "      <td>155.0</td>\n",
              "      <td>343.352452</td>\n",
              "      <td>203.491171</td>\n",
              "      <td>37.0</td>\n",
              "      <td>248.000</td>\n",
              "      <td>319.0</td>\n",
              "      <td>399.00</td>\n",
              "      <td>1919.00</td>\n",
              "    </tr>\n",
              "    <tr>\n",
              "      <th>Others</th>\n",
              "      <td>23.0</td>\n",
              "      <td>1341.241739</td>\n",
              "      <td>2825.552496</td>\n",
              "      <td>100.0</td>\n",
              "      <td>425.000</td>\n",
              "      <td>639.0</td>\n",
              "      <td>1155.50</td>\n",
              "      <td>14100.00</td>\n",
              "    </tr>\n",
              "    <tr>\n",
              "      <th>Paperback</th>\n",
              "      <td>5197.0</td>\n",
              "      <td>495.272721</td>\n",
              "      <td>530.826557</td>\n",
              "      <td>25.0</td>\n",
              "      <td>239.000</td>\n",
              "      <td>354.0</td>\n",
              "      <td>550.00</td>\n",
              "      <td>9984.00</td>\n",
              "    </tr>\n",
              "    <tr>\n",
              "      <th>Sheet music</th>\n",
              "      <td>24.0</td>\n",
              "      <td>799.208333</td>\n",
              "      <td>304.515293</td>\n",
              "      <td>472.0</td>\n",
              "      <td>567.000</td>\n",
              "      <td>657.0</td>\n",
              "      <td>1056.75</td>\n",
              "      <td>1431.00</td>\n",
              "    </tr>\n",
              "  </tbody>\n",
              "</table>\n",
              "</div>"
            ],
            "text/plain": [
              "                        count         mean  ...      75%       max\n",
              "Edition                                     ...                   \n",
              "Flexibound               15.0   713.344000  ...   954.50   1669.00\n",
              "Hardcover               823.0   983.294168  ...  1109.00  13244.67\n",
              "Mass Market Paperback   155.0   343.352452  ...   399.00   1919.00\n",
              "Others                   23.0  1341.241739  ...  1155.50  14100.00\n",
              "Paperback              5197.0   495.272721  ...   550.00   9984.00\n",
              "Sheet music              24.0   799.208333  ...  1056.75   1431.00\n",
              "\n",
              "[6 rows x 8 columns]"
            ]
          },
          "metadata": {
            "tags": []
          },
          "execution_count": 64
        }
      ]
    },
    {
      "cell_type": "code",
      "metadata": {
        "id": "CDUgg1wlH27H",
        "colab_type": "code",
        "colab": {}
      },
      "source": [
        "from sklearn.preprocessing import LabelEncoder\n",
        "le=LabelEncoder()"
      ],
      "execution_count": 0,
      "outputs": []
    },
    {
      "cell_type": "code",
      "metadata": {
        "id": "e9CnP7uOH6EH",
        "colab_type": "code",
        "colab": {}
      },
      "source": [
        "train['Edition']=le.fit_transform(train['Edition']).astype(float)\n",
        "test['Edition']=le.fit_transform(test['Edition']).astype(float)"
      ],
      "execution_count": 0,
      "outputs": []
    },
    {
      "cell_type": "code",
      "metadata": {
        "id": "6KacV6ZeH-CM",
        "colab_type": "code",
        "outputId": "0cba5132-0202-41c3-a148-5d44904df9d7",
        "colab": {
          "base_uri": "https://localhost:8080/",
          "height": 34
        }
      },
      "source": [
        "train['Edition'].unique()"
      ],
      "execution_count": 67,
      "outputs": [
        {
          "output_type": "execute_result",
          "data": {
            "text/plain": [
              "array([4., 1., 2., 5., 0., 3.])"
            ]
          },
          "metadata": {
            "tags": []
          },
          "execution_count": 67
        }
      ]
    },
    {
      "cell_type": "code",
      "metadata": {
        "id": "TPSKsdxzICne",
        "colab_type": "code",
        "outputId": "3c7f4a87-748a-443e-c1d6-22cad50717f0",
        "colab": {
          "base_uri": "https://localhost:8080/",
          "height": 34
        }
      },
      "source": [
        "test['Edition'].unique()"
      ],
      "execution_count": 68,
      "outputs": [
        {
          "output_type": "execute_result",
          "data": {
            "text/plain": [
              "array([2., 4., 1., 3., 5., 0.])"
            ]
          },
          "metadata": {
            "tags": []
          },
          "execution_count": 68
        }
      ]
    },
    {
      "cell_type": "code",
      "metadata": {
        "id": "wSFms7zLIFOI",
        "colab_type": "code",
        "outputId": "008c6328-190b-4875-9a58-3740d4bc280f",
        "colab": {
          "base_uri": "https://localhost:8080/",
          "height": 425
        }
      },
      "source": [
        "print(train['Genre'].value_counts())\n",
        "print(test['Genre'].value_counts())"
      ],
      "execution_count": 69,
      "outputs": [
        {
          "output_type": "stream",
          "text": [
            "Action & Adventure (Books)               947\n",
            "Romance (Books)                          419\n",
            "Biographies & Autobiographies (Books)    373\n",
            "Crime, Thriller & Mystery (Books)        276\n",
            "Contemporary Fiction (Books)             256\n",
            "                                        ... \n",
            "Encyclopedias for Children                 1\n",
            "Public Speaking Reference                  1\n",
            "Software Programming Compilers             1\n",
            "Target Shooting (Books)                    1\n",
            "Calculus                                   1\n",
            "Name: Genre, Length: 345, dtype: int64\n",
            "Action & Adventure (Books)               236\n",
            "Romance (Books)                           98\n",
            "Biographies & Autobiographies (Books)     90\n",
            "Contemporary Fiction (Books)              69\n",
            "Crime, Thriller & Mystery (Books)         59\n",
            "                                        ... \n",
            "Creative Writing & Composition             1\n",
            "Baseball (Books)                           1\n",
            "Middle Eastern History                     1\n",
            "Sports Medicine                            1\n",
            "Children's Crime & Thriller (Books)        1\n",
            "Name: Genre, Length: 225, dtype: int64\n"
          ],
          "name": "stdout"
        }
      ]
    },
    {
      "cell_type": "code",
      "metadata": {
        "id": "WBe5z-msIJkF",
        "colab_type": "code",
        "colab": {}
      },
      "source": [
        "train['Genre']=le.fit_transform(train['Genre']).astype(float)\n",
        "test['Genre']=le.fit_transform(test['Genre']).astype(float)"
      ],
      "execution_count": 0,
      "outputs": []
    },
    {
      "cell_type": "code",
      "metadata": {
        "id": "sFm9fA8fIOEL",
        "colab_type": "code",
        "outputId": "ce0f54a7-2044-41df-8a09-66c4e4d02aa1",
        "colab": {
          "base_uri": "https://localhost:8080/",
          "height": 425
        }
      },
      "source": [
        "print(train['BookCategory'].value_counts())\n",
        "print(test['BookCategory'].value_counts())"
      ],
      "execution_count": 71,
      "outputs": [
        {
          "output_type": "stream",
          "text": [
            "Action & Adventure                      818\n",
            "Crime, Thriller & Mystery               723\n",
            "Biographies, Diaries & True Accounts    596\n",
            "Language, Linguistics & Writing         594\n",
            "Comics & Mangas                         583\n",
            "Romance                                 560\n",
            "Humour                                  540\n",
            "Arts, Film & Photography                517\n",
            "Computing, Internet & Digital Media     510\n",
            "Sports                                  471\n",
            "Politics                                325\n",
            "Name: BookCategory, dtype: int64\n",
            "Action & Adventure                      218\n",
            "Comics & Mangas                         161\n",
            "Crime, Thriller & Mystery               155\n",
            "Sports                                  143\n",
            "Romance                                 142\n",
            "Language, Linguistics & Writing         139\n",
            "Computing, Internet & Digital Media     138\n",
            "Biographies, Diaries & True Accounts    136\n",
            "Humour                                  130\n",
            "Arts, Film & Photography                121\n",
            "Politics                                 77\n",
            "Name: BookCategory, dtype: int64\n"
          ],
          "name": "stdout"
        }
      ]
    },
    {
      "cell_type": "code",
      "metadata": {
        "id": "k_aDOUuHIQ_R",
        "colab_type": "code",
        "colab": {}
      },
      "source": [
        "train['BookCategory']=le.fit_transform(train['BookCategory']).astype(float)\n",
        "test['BookCategory']=le.fit_transform(test['BookCategory']).astype(float)"
      ],
      "execution_count": 0,
      "outputs": []
    },
    {
      "cell_type": "code",
      "metadata": {
        "id": "iiPtb82RIWGa",
        "colab_type": "code",
        "outputId": "7cb24483-9871-4262-dcc3-3cfbc8b8f45b",
        "colab": {
          "base_uri": "https://localhost:8080/",
          "height": 51
        }
      },
      "source": [
        "print(train['BookCategory'].unique())\n",
        "print(test['BookCategory'].unique())"
      ],
      "execution_count": 73,
      "outputs": [
        {
          "output_type": "stream",
          "text": [
            "[ 0.  2.  6.  5.  1. 10.  7.  4.  9.  3.  8.]\n",
            "[ 5.  4.  9.  7.  1.  8.  0.  6. 10.  2.  3.]\n"
          ],
          "name": "stdout"
        }
      ]
    },
    {
      "cell_type": "code",
      "metadata": {
        "id": "gRWpeiaxIZQO",
        "colab_type": "code",
        "colab": {}
      },
      "source": [
        "#Feature Selection\n",
        "train = train[[ 'Edition', 'Reviews', 'Ratings','Genre',\n",
        "               'BookCategory', 'Released_year',\t'Book_Age','Price']]\n",
        "\n",
        "test = test[['Edition', 'Reviews', 'Ratings','Genre',\n",
        "               'BookCategory','Released_year','Book_Age']]"
      ],
      "execution_count": 0,
      "outputs": []
    },
    {
      "cell_type": "code",
      "metadata": {
        "id": "bEXdIGj_Ik8E",
        "colab_type": "code",
        "outputId": "98b38604-726d-416f-ff60-4d78ac2bf7c7",
        "colab": {
          "base_uri": "https://localhost:8080/",
          "height": 204
        }
      },
      "source": [
        "train.head()"
      ],
      "execution_count": 75,
      "outputs": [
        {
          "output_type": "execute_result",
          "data": {
            "text/html": [
              "<div>\n",
              "<style scoped>\n",
              "    .dataframe tbody tr th:only-of-type {\n",
              "        vertical-align: middle;\n",
              "    }\n",
              "\n",
              "    .dataframe tbody tr th {\n",
              "        vertical-align: top;\n",
              "    }\n",
              "\n",
              "    .dataframe thead th {\n",
              "        text-align: right;\n",
              "    }\n",
              "</style>\n",
              "<table border=\"1\" class=\"dataframe\">\n",
              "  <thead>\n",
              "    <tr style=\"text-align: right;\">\n",
              "      <th></th>\n",
              "      <th>Edition</th>\n",
              "      <th>Reviews</th>\n",
              "      <th>Ratings</th>\n",
              "      <th>Genre</th>\n",
              "      <th>BookCategory</th>\n",
              "      <th>Released_year</th>\n",
              "      <th>Book_Age</th>\n",
              "      <th>Price</th>\n",
              "    </tr>\n",
              "  </thead>\n",
              "  <tbody>\n",
              "    <tr>\n",
              "      <th>0</th>\n",
              "      <td>4.0</td>\n",
              "      <td>8.0</td>\n",
              "      <td>4.0</td>\n",
              "      <td>1.0</td>\n",
              "      <td>0.0</td>\n",
              "      <td>2016</td>\n",
              "      <td>3</td>\n",
              "      <td>220.00</td>\n",
              "    </tr>\n",
              "    <tr>\n",
              "      <th>1</th>\n",
              "      <td>4.0</td>\n",
              "      <td>14.0</td>\n",
              "      <td>3.9</td>\n",
              "      <td>74.0</td>\n",
              "      <td>2.0</td>\n",
              "      <td>2012</td>\n",
              "      <td>7</td>\n",
              "      <td>202.93</td>\n",
              "    </tr>\n",
              "    <tr>\n",
              "      <th>2</th>\n",
              "      <td>4.0</td>\n",
              "      <td>6.0</td>\n",
              "      <td>4.8</td>\n",
              "      <td>193.0</td>\n",
              "      <td>6.0</td>\n",
              "      <td>1982</td>\n",
              "      <td>37</td>\n",
              "      <td>299.00</td>\n",
              "    </tr>\n",
              "    <tr>\n",
              "      <th>3</th>\n",
              "      <td>4.0</td>\n",
              "      <td>13.0</td>\n",
              "      <td>4.1</td>\n",
              "      <td>92.0</td>\n",
              "      <td>5.0</td>\n",
              "      <td>2017</td>\n",
              "      <td>2</td>\n",
              "      <td>180.00</td>\n",
              "    </tr>\n",
              "    <tr>\n",
              "      <th>4</th>\n",
              "      <td>1.0</td>\n",
              "      <td>1.0</td>\n",
              "      <td>5.0</td>\n",
              "      <td>253.0</td>\n",
              "      <td>1.0</td>\n",
              "      <td>2006</td>\n",
              "      <td>13</td>\n",
              "      <td>965.62</td>\n",
              "    </tr>\n",
              "  </tbody>\n",
              "</table>\n",
              "</div>"
            ],
            "text/plain": [
              "   Edition  Reviews  Ratings  ...  Released_year  Book_Age   Price\n",
              "0      4.0      8.0      4.0  ...           2016         3  220.00\n",
              "1      4.0     14.0      3.9  ...           2012         7  202.93\n",
              "2      4.0      6.0      4.8  ...           1982        37  299.00\n",
              "3      4.0     13.0      4.1  ...           2017         2  180.00\n",
              "4      1.0      1.0      5.0  ...           2006        13  965.62\n",
              "\n",
              "[5 rows x 8 columns]"
            ]
          },
          "metadata": {
            "tags": []
          },
          "execution_count": 75
        }
      ]
    },
    {
      "cell_type": "code",
      "metadata": {
        "id": "u0X9s4YSIpTC",
        "colab_type": "code",
        "colab": {}
      },
      "source": [
        "X = train.iloc[:,0:8].values\n",
        "y = train.iloc[:,-1].values"
      ],
      "execution_count": 0,
      "outputs": []
    },
    {
      "cell_type": "code",
      "metadata": {
        "id": "hih9M9wPXhqK",
        "colab_type": "code",
        "colab": {}
      },
      "source": [
        "from sklearn.preprocessing import StandardScaler\n",
        "sc=StandardScaler()\n",
        "X = sc.fit_transform(X)"
      ],
      "execution_count": 0,
      "outputs": []
    },
    {
      "cell_type": "code",
      "metadata": {
        "id": "CiRUnoDLIuTA",
        "colab_type": "code",
        "colab": {}
      },
      "source": [
        "from sklearn.model_selection import train_test_split\n",
        "X_train, X_test, y_train, y_test= train_test_split(X, y, test_size = 0.1)"
      ],
      "execution_count": 0,
      "outputs": []
    },
    {
      "cell_type": "code",
      "metadata": {
        "id": "soTRLgdlI_nX",
        "colab_type": "code",
        "outputId": "1951f05b-bc9f-4f6d-d971-4d591bf4f142",
        "colab": {
          "base_uri": "https://localhost:8080/",
          "height": 153
        }
      },
      "source": [
        "from xgboost import XGBRegressor\n",
        "xgb=XGBRegressor(max_depth=4, n_estimators=100, random_state = 1)\n",
        "xgb.fit(X_train,y_train)"
      ],
      "execution_count": 79,
      "outputs": [
        {
          "output_type": "stream",
          "text": [
            "[18:40:28] WARNING: /workspace/src/objective/regression_obj.cu:152: reg:linear is now deprecated in favor of reg:squarederror.\n"
          ],
          "name": "stdout"
        },
        {
          "output_type": "execute_result",
          "data": {
            "text/plain": [
              "XGBRegressor(base_score=0.5, booster='gbtree', colsample_bylevel=1,\n",
              "             colsample_bynode=1, colsample_bytree=1, gamma=0,\n",
              "             importance_type='gain', learning_rate=0.1, max_delta_step=0,\n",
              "             max_depth=4, min_child_weight=1, missing=None, n_estimators=100,\n",
              "             n_jobs=1, nthread=None, objective='reg:linear', random_state=1,\n",
              "             reg_alpha=0, reg_lambda=1, scale_pos_weight=1, seed=None,\n",
              "             silent=None, subsample=1, verbosity=1)"
            ]
          },
          "metadata": {
            "tags": []
          },
          "execution_count": 79
        }
      ]
    },
    {
      "cell_type": "code",
      "metadata": {
        "id": "Y_NoqnzUJDeg",
        "colab_type": "code",
        "colab": {}
      },
      "source": [
        "y_pred_xgb =xgb.predict(X_test)"
      ],
      "execution_count": 0,
      "outputs": []
    },
    {
      "cell_type": "code",
      "metadata": {
        "id": "1oXQBfZOJJPg",
        "colab_type": "code",
        "outputId": "813cb7a1-0e87-4fb6-ec8a-1b1a05c723e1",
        "colab": {
          "base_uri": "https://localhost:8080/",
          "height": 1000
        }
      },
      "source": [
        "y_pred_xgb"
      ],
      "execution_count": 81,
      "outputs": [
        {
          "output_type": "execute_result",
          "data": {
            "text/plain": [
              "array([  433.9995  ,   249.40564 ,  1899.5676  ,  1544.8608  ,\n",
              "         261.002   ,   149.42258 ,   869.0437  ,   357.81476 ,\n",
              "         639.06616 ,   398.1735  ,   375.6322  ,   349.85577 ,\n",
              "         318.5555  ,   322.53638 ,   717.26465 ,   407.47998 ,\n",
              "         639.06616 ,   448.62054 ,   185.01268 ,   510.41248 ,\n",
              "        1397.4028  ,   185.01268 ,  1136.1102  ,   817.19714 ,\n",
              "         186.62756 ,   448.62054 ,   440.45905 ,   198.36215 ,\n",
              "        1115.6898  ,   357.81476 ,   375.6322  ,   365.28958 ,\n",
              "        2265.226   ,   880.96387 ,   781.269   ,   618.2621  ,\n",
              "         375.6322  , 13228.269   ,  1297.1715  ,   233.77272 ,\n",
              "        5611.9688  ,   798.7169  ,   318.5555  ,   246.89835 ,\n",
              "         247.23355 ,   299.70737 ,   322.53638 ,   337.19522 ,\n",
              "        4841.322   ,   221.24866 ,  1362.378   ,   337.19522 ,\n",
              "         599.5523  ,   396.88785 ,   299.9142  ,   166.63649 ,\n",
              "        1499.2766  ,   461.72223 ,   599.5523  ,   261.844   ,\n",
              "         428.87653 ,   390.9761  ,   233.77272 ,  1138.8442  ,\n",
              "         623.95087 ,    89.438385,   592.1877  ,   178.97365 ,\n",
              "         365.28958 ,   247.23355 ,   299.70737 ,   181.60254 ,\n",
              "         494.9513  ,   558.58276 ,  1297.1715  ,   261.844   ,\n",
              "         617.7293  ,   299.70737 ,   198.36215 ,   572.4317  ,\n",
              "         584.77075 ,   113.15104 ,   494.69833 ,   375.6322  ,\n",
              "         869.0437  ,   176.55768 ,   597.2977  ,   519.89453 ,\n",
              "         176.55768 ,  1030.5481  ,   375.6322  ,   447.98096 ,\n",
              "         461.72223 ,   333.63678 ,   349.85577 ,   181.60254 ,\n",
              "         246.89835 ,   349.85577 ,   185.01268 ,  8980.071   ,\n",
              "         260.75912 ,   149.66972 ,  1055.3119  ,  1055.3119  ,\n",
              "        7128.5103  ,   639.06616 ,   381.61365 ,   224.05269 ,\n",
              "        1725.9469  ,   398.31534 ,   398.31534 ,   448.62054 ,\n",
              "         167.68181 ,   747.1375  ,   200.9032  ,   349.85577 ,\n",
              "         250.26357 ,   356.71445 ,   643.61694 ,   129.84651 ,\n",
              "         623.95087 ,    99.79176 ,   236.34518 ,   379.03775 ,\n",
              "          94.56332 ,   236.34518 ,   847.9308  ,   417.0071  ,\n",
              "         398.31534 ,   129.84651 ,  1452.749   ,  2372.777   ,\n",
              "         181.60254 ,   407.47998 ,   572.4317  ,  2130.0156  ,\n",
              "         149.66972 ,   558.58276 ,   309.72015 ,  3330.8684  ,\n",
              "         224.05269 ,  1030.5481  ,  1499.2766  ,   398.31534 ,\n",
              "         261.844   ,   224.05269 ,   247.23355 ,   747.1375  ,\n",
              "         349.85577 ,   357.81476 ,   699.6775  ,   250.72495 ,\n",
              "         181.60254 ,   235.51036 ,   498.89453 ,   261.002   ,\n",
              "         129.84651 ,   375.6322  ,   718.50055 ,   178.97365 ,\n",
              "         224.05269 ,   448.62054 ,   717.26465 ,   181.60254 ,\n",
              "         684.8161  ,   207.29468 ,   398.31534 ,   221.24866 ,\n",
              "         207.29468 ,   869.0437  ,   105.07974 ,  1118.4321  ,\n",
              "         287.70377 ,   144.8217  ,   770.21436 ,   261.002   ,\n",
              "         474.66464 ,   322.53638 ,   261.844   ,   185.01268 ,\n",
              "        2245.8005  ,   274.04483 ,   200.9032  ,  1500.0564  ,\n",
              "        1363.893   ,   294.00873 ,   271.95416 ,  1581.8212  ,\n",
              "         294.00873 ,   221.24866 ,   448.62054 ,   287.70377 ,\n",
              "         357.81476 ,   498.89453 ,   407.47998 ,   236.34518 ,\n",
              "         278.87756 ,   781.269   ,   390.9761  ,   539.2468  ,\n",
              "         494.69833 ,   181.60254 ,   962.0926  ,   428.03995 ,\n",
              "         417.0071  ,   474.66464 ,   398.31534 ,   717.26465 ,\n",
              "         336.3705  ,   356.71445 ,   224.05269 ,   274.04483 ,\n",
              "         309.72015 ,   889.5334  ,   309.72015 ,   278.87756 ,\n",
              "         703.4606  ,   474.66464 ,   278.87756 ,  1336.5388  ,\n",
              "         247.23355 ,   375.6322  ,  1168.4761  ,   274.04483 ,\n",
              "         398.31534 ,   498.89453 ,   278.87756 ,   233.77272 ,\n",
              "        5607.133   ,   551.56134 ,   869.0437  ,   417.0071  ,\n",
              "         921.5732  ,   519.89453 ,   778.4921  ,   309.52594 ,\n",
              "         357.81476 ,   349.85577 ,   365.28958 ,   407.47998 ,\n",
              "         356.71445 ,   322.53638 ,    99.19619 ,   639.06616 ,\n",
              "         599.5523  ,   494.69833 ,   111.18378 ,  1770.3545  ,\n",
              "         198.36215 ,   336.3705  ,    77.50749 ,    78.200294,\n",
              "         510.41248 ,   365.28958 ,   555.63043 ,  1656.3789  ,\n",
              "         337.19522 ,   723.10266 ,   233.77272 ,   357.81476 ,\n",
              "         501.52487 ,   261.844   ,   318.5555  ,  2032.6544  ,\n",
              "         356.71445 ,   448.62054 ,   894.1326  ,   778.4921  ,\n",
              "         287.70377 ,   365.28958 ,  1168.4761  ,   375.6322  ,\n",
              "         299.70737 ,   208.47446 ,  1168.4761  ,  2567.9841  ,\n",
              "         157.68282 ,   381.61365 ,   246.89835 ,   417.0071  ,\n",
              "         498.89453 ,  2558.264   ,   318.5555  ,   224.05269 ,\n",
              "         539.2468  ,   105.07974 ,   447.98096 ,   356.71445 ,\n",
              "         897.71826 ,   461.4558  ,   378.04614 ,   261.844   ,\n",
              "         149.66972 ,   149.21518 ,   304.23465 ,   311.15204 ,\n",
              "         129.912   ,   349.85577 ,   299.70737 ,   274.04483 ,\n",
              "         284.7771  ,   157.68282 ,   539.2468  ,   123.298   ,\n",
              "         357.81476 ,   294.00873 ,   178.97365 ,   208.47446 ,\n",
              "         247.23355 ,   398.31534 ,   558.58276 ,   398.31534 ,\n",
              "         838.04504 ,   200.9032  ,   771.1785  ,   322.53638 ,\n",
              "         502.0088  ,   379.48517 ,   293.48785 ,   246.89835 ,\n",
              "         381.61365 ,   224.05269 ,   207.29468 ,   349.85577 ,\n",
              "         224.05269 ,   378.04614 ,  1386.0569  ,   139.25401 ,\n",
              "         569.6649  ,  4052.1763  ,   847.9308  ,   365.28958 ,\n",
              "         494.68488 ,   356.71445 ,   838.04504 ,   167.68181 ,\n",
              "         299.9142  ,   178.97365 ,  1434.3923  ,   448.35413 ,\n",
              "         304.23465 ,   186.62756 ,   207.29468 ,   299.9142  ,\n",
              "         375.6322  ,   758.85156 ,   278.87756 ,   652.33704 ,\n",
              "         337.19522 ,   962.0926  ,  2103.1416  ,   448.62054 ,\n",
              "         318.5555  ,  1770.0807  ,   639.06616 ,   299.70737 ,\n",
              "         461.72223 ,   417.0071  ,   247.23355 ,   185.01268 ,\n",
              "         271.95416 ,   417.72656 ,   322.53638 ,   551.56134 ,\n",
              "         423.2571  ,   921.5732  ,  2484.4312  ,  1397.4028  ,\n",
              "          57.544846,   539.2468  ,   448.62054 ,   136.99362 ,\n",
              "         993.94806 ,   448.62054 ,   494.9513  ,   869.0437  ,\n",
              "         309.52594 ,  1696.9395  ,   304.23465 ,   261.844   ,\n",
              "         307.7145  ,    46.012684,   376.10315 ,   897.71826 ,\n",
              "         474.66464 ,  1055.3119  ,   673.0898  ,   440.45905 ,\n",
              "        1030.5481  ,   398.31534 ,   299.70737 ,   247.23355 ,\n",
              "         250.45233 ,   200.9032  ,   233.77272 ,   123.298   ,\n",
              "         419.5516  ,   166.63649 ,   208.47446 ,    78.200294,\n",
              "         249.40564 ,   448.62054 ,   278.87756 ,   322.53638 ,\n",
              "         699.6775  ,  1725.9469  ,   207.29468 ,   198.36215 ,\n",
              "        1773.3138  ,   440.45905 ,    98.3376  ,   149.21518 ,\n",
              "          78.200294,   136.99362 ,   271.95416 ,   200.9032  ,\n",
              "         144.8217  ,   299.70737 ,   247.23355 ,    70.570854,\n",
              "         552.7152  ,   747.1375  ,   299.9142  ,   271.95416 ,\n",
              "        1030.5481  ,   294.00873 ,   304.23465 ,   461.72223 ,\n",
              "         494.69833 ,   149.42258 ,   605.86584 ,   246.89835 ,\n",
              "         184.76567 ,   847.69635 ,   299.9142  ,   261.844   ,\n",
              "         129.84651 ,   356.71445 ,   582.67847 ,   533.6142  ,\n",
              "         337.19522 ,   224.05269 ,   470.89252 ,  3635.3088  ,\n",
              "         365.28958 ,   623.95087 ,   337.19522 ,   299.70737 ,\n",
              "         999.10736 ,   260.75912 ,    58.913914,   478.87558 ,\n",
              "         823.2651  ,   349.85577 ,   289.8166  ,   599.5523  ,\n",
              "         178.97365 ,   897.71826 ,   233.77272 ,   894.1326  ,\n",
              "         149.42258 ,   304.23465 ,   157.68282 ,   185.01268 ,\n",
              "         200.9032  ,   186.62756 ,   271.95416 ,   558.58276 ,\n",
              "         365.28958 ,   200.9032  ,   461.72223 ,  1289.177   ,\n",
              "         349.85577 ,   555.63043 ,   198.36215 ,   428.03995 ,\n",
              "         440.45905 ,   129.84651 ,   166.63649 ,   375.6322  ,\n",
              "         390.9761  ,   299.9142  ,   501.52487 ,   271.95416 ,\n",
              "        1055.3119  ,   176.55768 ,   311.15204 ,   798.7169  ,\n",
              "        1195.74    ,   375.6322  ,   519.89453 ,   249.40564 ,\n",
              "         357.81476 ,  1062.8992  ,   441.9424  ,   519.89453 ,\n",
              "         299.70737 ,  1195.74    ,   433.9995  ,   250.72495 ,\n",
              "         478.87558 ,   725.4394  ,   299.9142  ,   299.9142  ,\n",
              "         224.05269 ,   897.71826 ,   758.85156 ,  1062.8992  ,\n",
              "         207.29468 ,   533.6142  ,   417.0071  ,   390.9761  ,\n",
              "        1878.0753  ,   311.15204 ,   558.58276 ,   284.7771  ,\n",
              "        1253.3081  ,   200.9032  ,   498.89453 ,  1275.4503  ,\n",
              "         423.2571  ,   260.75912 ,   235.51036 ,  2877.5151  ,\n",
              "         847.9308  ,   599.5523  ,   166.63649 ,   333.63678 ,\n",
              "         249.40564 ,   198.36215 ,   474.66464 ,  1696.9395  ,\n",
              "         221.24866 ,   396.88785 ,   510.41248 ,   186.62756 ,\n",
              "         178.97365 ,   747.1375  ,   869.0437  ,  1998.0718  ,\n",
              "         448.62054 ,   113.15104 ,   221.24866 ,   999.10736 ,\n",
              "         441.9424  ,   640.0304  ,   826.0849  ,   299.70737 ,\n",
              "         375.6322  ,   349.85577 ,   398.31534 ,   176.55768 ,\n",
              "         157.68282 ,   461.72223 ,   111.36569 ,   299.9142  ,\n",
              "          61.563786,    99.79176 ,   356.71445 ,   423.2571  ,\n",
              "         309.72015 ,   474.66464 ,   440.45905 ,  1610.7207  ,\n",
              "         428.87653 ,   474.66464 ,  1199.8788  ,   501.52487 ,\n",
              "        1828.2585  ,   184.76567 ,   539.2468  ,   247.23355 ,\n",
              "         186.62756 ,   889.5334  ,    98.3376  ,   357.81476 ,\n",
              "         236.34518 ,   417.72656 ,   398.31534 ,   356.71445 ,\n",
              "         200.9032  ,   309.72015 ,   967.37494 ,   390.9761  ,\n",
              "         558.58276 ,   778.4921  ,   390.9761  ,   294.00873 ,\n",
              "         357.81476 ,   322.53638 ,   236.34518 ,   446.12845 ,\n",
              "         448.62054 ,  1347.0507  ,   717.26465 ,   804.7832  ,\n",
              "         322.53638 ,   294.00873 ,   798.7169  ,   440.45905 ,\n",
              "         723.10266 ,   894.1326  ,   982.55646 ,   304.23465 ,\n",
              "         390.9761  ,  1253.3081  ,   592.1877  ,   149.42258 ,\n",
              "         149.21518 ,   682.46246 ,   820.62537 ,   349.85577 ,\n",
              "         781.269   ,   247.23355 ,   379.03775 ,   431.48105 ,\n",
              "        1004.8052  ,   337.19522 ,    89.438385,    89.438385,\n",
              "         136.99362 ,   186.62756 ,  2684.3054  ,   294.00873 ],\n",
              "      dtype=float32)"
            ]
          },
          "metadata": {
            "tags": []
          },
          "execution_count": 81
        }
      ]
    },
    {
      "cell_type": "code",
      "metadata": {
        "id": "NEF1DvwBVqRC",
        "colab_type": "code",
        "colab": {
          "base_uri": "https://localhost:8080/",
          "height": 34
        },
        "outputId": "e1e80efd-ba5f-4231-8511-9db429ea6aee"
      },
      "source": [
        "xgb.score(X_test,y_test)"
      ],
      "execution_count": 82,
      "outputs": [
        {
          "output_type": "execute_result",
          "data": {
            "text/plain": [
              "0.9948263407678326"
            ]
          },
          "metadata": {
            "tags": []
          },
          "execution_count": 82
        }
      ]
    },
    {
      "cell_type": "code",
      "metadata": {
        "id": "xD3FAoRhg8f3",
        "colab_type": "code",
        "colab": {}
      },
      "source": [
        ""
      ],
      "execution_count": 0,
      "outputs": []
    }
  ]
}